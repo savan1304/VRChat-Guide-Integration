{
 "cells": [
  {
   "cell_type": "code",
   "execution_count": 6,
   "metadata": {},
   "outputs": [],
   "source": [
    "from transformers import pipeline\n",
    "import numpy as np\n",
    "\n",
    "\n",
    "similarity_pipe = pipeline(\n",
    "    \"feature-extraction\", \n",
    "    model=\"sentence-transformers/all-MiniLM-L6-v2\", \n",
    "    tokenizer=\"sentence-transformers/all-MiniLM-L6-v2\"\n",
    ")\n",
    "\n",
    "def calculate_similarity(sentence1, sentence2):\n",
    "    embedding1 = np.mean(similarity_pipe(sentence1)[0], axis=0)\n",
    "    embedding2 = np.mean(similarity_pipe(sentence2)[0], axis=0)\n",
    "\n",
    "    similarity = np.dot(embedding1, embedding2) / (np.linalg.norm(embedding1) * np.linalg.norm(embedding2))\n",
    "    return similarity"
   ]
  },
  {
   "cell_type": "code",
   "execution_count": 7,
   "metadata": {},
   "outputs": [
    {
     "data": {
      "text/plain": [
       "0.36808340129973494"
      ]
     },
     "execution_count": 7,
     "metadata": {},
     "output_type": "execute_result"
    }
   ],
   "source": [
    "calculate_similarity(\n",
    "\t\"Ava's birthday falls on June 8th.\",\n",
    "\t\"Hey Bob! My birthday is on June 8th and I\\'m 25 years old. Time flies, doesn't it?\"\n",
    ")"
   ]
  },
  {
   "cell_type": "code",
   "execution_count": 8,
   "metadata": {},
   "outputs": [
    {
     "data": {
      "text/plain": [
       "0.5168603777420284"
      ]
     },
     "execution_count": 8,
     "metadata": {},
     "output_type": "execute_result"
    }
   ],
   "source": [
    "calculate_similarity(\n",
    "\t\"Ava's birthday falls on June 8th.\",\n",
    "\t\"Ava enjoys jogging, her favourite sport.\"\n",
    ")"
   ]
  },
  {
   "cell_type": "code",
   "execution_count": null,
   "metadata": {},
   "outputs": [],
   "source": []
  }
 ],
 "metadata": {
  "kernelspec": {
   "display_name": "aac",
   "language": "python",
   "name": "python3"
  },
  "language_info": {
   "codemirror_mode": {
    "name": "ipython",
    "version": 3
   },
   "file_extension": ".py",
   "mimetype": "text/x-python",
   "name": "python",
   "nbconvert_exporter": "python",
   "pygments_lexer": "ipython3",
   "version": "3.9.18"
  },
  "orig_nbformat": 4
 },
 "nbformat": 4,
 "nbformat_minor": 2
}
