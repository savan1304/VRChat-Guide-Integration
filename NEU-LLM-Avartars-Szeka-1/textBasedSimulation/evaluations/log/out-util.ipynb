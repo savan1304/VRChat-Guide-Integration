{
 "cells": [
  {
   "cell_type": "code",
   "execution_count": 4,
   "id": "653e3257-35eb-47cb-acc9-f96debbe871c",
   "metadata": {
    "tags": []
   },
   "outputs": [
    {
     "name": "stdout",
     "output_type": "stream",
     "text": [
      "3.3312169312169315\n",
      "3.4629629629629632\n",
      "3.3299999999999996\n",
      "3.4561904761904763\n",
      "3.586785714285714\n",
      "2.9695238095238095\n",
      "3.004285714285714\n"
     ]
    }
   ],
   "source": [
    "data = \"\"\"\n",
    "MAP for Scenario 75c11: 3.3312169312169315\n",
    "MAP for Scenario 75c12: 3.4629629629629632\n",
    "MAP for Scenario 75c2: 3.3299999999999996\n",
    "MAP for Scenario 75c3: 3.4561904761904763\n",
    "MAP for Scenario 75c4: 3.586785714285714\n",
    "MAP for Scenario 75c5: 2.9695238095238095\n",
    "MAP for Scenario 75c6: 3.004285714285714\n",
    "\"\"\"\n",
    "\n",
    "lines = data.strip().split('\\n')\n",
    "\n",
    "last_numbers = [float(line.split(':')[-1]) for line in lines]\n",
    "\n",
    "result_string = '\\n'.join(map(str, last_numbers))\n",
    "\n",
    "print(result_string)"
   ]
  },
  {
   "cell_type": "code",
   "execution_count": 1,
   "id": "9b55a82c-5996-451c-b669-81e907528502",
   "metadata": {},
   "outputs": [
    {
     "name": "stdout",
     "output_type": "stream",
     "text": [
      "Sat Jan 20 21:51:14 2024       \n",
      "+---------------------------------------------------------------------------------------+\n",
      "| NVIDIA-SMI 545.23.08              Driver Version: 545.23.08    CUDA Version: 12.3     |\n",
      "|-----------------------------------------+----------------------+----------------------+\n",
      "| GPU  Name                 Persistence-M | Bus-Id        Disp.A | Volatile Uncorr. ECC |\n",
      "| Fan  Temp   Perf          Pwr:Usage/Cap |         Memory-Usage | GPU-Util  Compute M. |\n",
      "|                                         |                      |               MIG M. |\n",
      "|=========================================+======================+======================|\n",
      "|   0  Tesla V100-PCIE-32GB           Off | 00000000:41:00.0 Off |                    0 |\n",
      "| N/A   51C    P0              43W / 250W |  17918MiB / 32768MiB |      0%      Default |\n",
      "|                                         |                      |                  N/A |\n",
      "+-----------------------------------------+----------------------+----------------------+\n",
      "                                                                                         \n",
      "+---------------------------------------------------------------------------------------+\n",
      "| Processes:                                                                            |\n",
      "|  GPU   GI   CI        PID   Type   Process name                            GPU Memory |\n",
      "|        ID   ID                                                             Usage      |\n",
      "|=======================================================================================|\n",
      "|    0   N/A  N/A     34593      C   python                                    17914MiB |\n",
      "+---------------------------------------------------------------------------------------+\n"
     ]
    }
   ],
   "source": [
    "!nvidia-smi"
   ]
  },
  {
   "cell_type": "code",
   "execution_count": null,
   "id": "349d3ffd-e8e0-458e-aa64-05055cf384a4",
   "metadata": {},
   "outputs": [],
   "source": []
  }
 ],
 "metadata": {
  "kernelspec": {
   "display_name": "Python 3 (ipykernel)",
   "language": "python",
   "name": "python3"
  },
  "language_info": {
   "codemirror_mode": {
    "name": "ipython",
    "version": 3
   },
   "file_extension": ".py",
   "mimetype": "text/x-python",
   "name": "python",
   "nbconvert_exporter": "python",
   "pygments_lexer": "ipython3",
   "version": "3.10.13"
  }
 },
 "nbformat": 4,
 "nbformat_minor": 5
}
