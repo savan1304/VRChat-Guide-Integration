{
 "cells": [
  {
   "cell_type": "code",
   "execution_count": 2,
   "id": "e2f3174e-0ec6-474b-b333-344960d100cb",
   "metadata": {
    "tags": []
   },
   "outputs": [
    {
     "name": "stdout",
     "output_type": "stream",
     "text": [
      "2.4975421958571427\n",
      "2.3786522854285717\n",
      "2.806889296571429\n",
      "2.6078305294285715\n",
      "2.6261197734285715\n",
      "2.5665859207142856\n",
      "2.355682980428571\n",
      "2.1720275502857147\n"
     ]
    }
   ],
   "source": [
    "data = \"\"\"\n",
    "2.734612528 2.338910935 3.366666667 2.922222222 3.012857143 2.412741841 2.566666667 2.522222222\n",
    "2.461371796 2.182291667 2.922443182 2.618055556 2.604166667 2.602777778 2.147089947 2.152777778\n",
    "2.521898486 2.40177895  2.771827652 2.799603175 2.68858119  2.656721982 2.553515929 1.998211279\n",
    "2.668420632 2.562908497 2.9296875   2.576388889 2.766865079 2.83015873  2.545634921 2.467300809\n",
    "2.248614233 2.479017857 2.293452381 2.373781774 2.181216931 2.445502646 2.161772487 1.805555556\n",
    "2.595576636 2.573863636 2.804137652 2.580808081 2.777421652 2.783272283 2.429427326 2.22010582\n",
    "2.25230106  2.111794456 2.560010042 2.383954009 2.351729752 2.234926185 2.085673586 2.038019388\n",
    "\"\"\"\n",
    "\n",
    "rows = [list(map(float, line.split())) for line in data.strip().split('\\n')]\n",
    "\n",
    "averages = [sum(column) / len(column) for column in zip(*rows)]\n",
    "\n",
    "averages_str = '\\n'.join(map(str, averages))\n",
    "\n",
    "print(averages_str)"
   ]
  },
  {
   "cell_type": "code",
   "execution_count": null,
   "id": "e4d52e93-3f0a-40e9-ac6d-adce77e4b658",
   "metadata": {},
   "outputs": [],
   "source": []
  }
 ],
 "metadata": {
  "kernelspec": {
   "display_name": "Python 3 (ipykernel)",
   "language": "python",
   "name": "python3"
  },
  "language_info": {
   "codemirror_mode": {
    "name": "ipython",
    "version": 3
   },
   "file_extension": ".py",
   "mimetype": "text/x-python",
   "name": "python",
   "nbconvert_exporter": "python",
   "pygments_lexer": "ipython3",
   "version": "3.10.13"
  }
 },
 "nbformat": 4,
 "nbformat_minor": 5
}
