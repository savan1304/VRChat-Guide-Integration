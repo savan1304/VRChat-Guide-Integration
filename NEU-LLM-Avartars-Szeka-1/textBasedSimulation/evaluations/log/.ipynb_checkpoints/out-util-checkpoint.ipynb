{
 "cells": [
  {
   "cell_type": "code",
   "execution_count": null,
   "id": "653e3257-35eb-47cb-acc9-f96debbe871c",
   "metadata": {
    "tags": []
   },
   "outputs": [],
   "source": [
    "data = \"\"\"\n",
    "==================================================\n",
    "MAP for Scenario 75c11: 1.6253968253968256\n",
    "MAP for Scenario 75c12: 2.189417989417989\n",
    "MAP for Scenario 75c2: 1.8980952380952385\n",
    "MAP for Scenario 75c3: 1.8590909090909093\n",
    "MAP for Scenario 75c4: 1.9635714285714283\n",
    "MAP for Scenario 75c5: 1.5985714285714288\n",
    "MAP for Scenario 75c6: 1.4139610389610389\n",
    "The Overall Mean Average Precision (MAP) for GPT4 across all scenarios is: 1.7925864083006942\n",
    "\"\"\"\n",
    "\n",
    "lines = data.strip().split('\\n')\n",
    "\n",
    "last_numbers = [float(line.split(':')[-1]) for line in lines]\n",
    "\n",
    "result_string = '\\n'.join(map(str, last_numbers))\n",
    "\n",
    "print(result_string)"
   ]
  },
  {
   "cell_type": "code",
   "execution_count": null,
   "id": "9b55a82c-5996-451c-b669-81e907528502",
   "metadata": {},
   "outputs": [],
   "source": []
  }
 ],
 "metadata": {
  "kernelspec": {
   "display_name": "Python 3 (ipykernel)",
   "language": "python",
   "name": "python3"
  },
  "language_info": {
   "codemirror_mode": {
    "name": "ipython",
    "version": 3
   },
   "file_extension": ".py",
   "mimetype": "text/x-python",
   "name": "python",
   "nbconvert_exporter": "python",
   "pygments_lexer": "ipython3",
   "version": "3.10.13"
  }
 },
 "nbformat": 4,
 "nbformat_minor": 5
}
